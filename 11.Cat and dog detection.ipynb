{
 "cells": [
  {
   "cell_type": "code",
   "execution_count": 6,
   "id": "12578604-72b1-492d-a94a-2e7e3dbfc102",
   "metadata": {
    "scrolled": true
   },
   "outputs": [
    {
     "name": "stdout",
     "output_type": "stream",
     "text": [
      "Requirement already satisfied: tensorflow in c:\\users\\user\\anaconda3\\lib\\site-packages (2.16.1)\n",
      "Requirement already satisfied: tensorflow-intel==2.16.1 in c:\\users\\user\\anaconda3\\lib\\site-packages (from tensorflow) (2.16.1)\n",
      "Requirement already satisfied: absl-py>=1.0.0 in c:\\users\\user\\anaconda3\\lib\\site-packages (from tensorflow-intel==2.16.1->tensorflow) (2.1.0)\n",
      "Requirement already satisfied: astunparse>=1.6.0 in c:\\users\\user\\anaconda3\\lib\\site-packages (from tensorflow-intel==2.16.1->tensorflow) (1.6.3)\n",
      "Requirement already satisfied: flatbuffers>=23.5.26 in c:\\users\\user\\anaconda3\\lib\\site-packages (from tensorflow-intel==2.16.1->tensorflow) (24.3.25)\n",
      "Requirement already satisfied: gast!=0.5.0,!=0.5.1,!=0.5.2,>=0.2.1 in c:\\users\\user\\anaconda3\\lib\\site-packages (from tensorflow-intel==2.16.1->tensorflow) (0.5.4)\n",
      "Requirement already satisfied: google-pasta>=0.1.1 in c:\\users\\user\\anaconda3\\lib\\site-packages (from tensorflow-intel==2.16.1->tensorflow) (0.2.0)\n",
      "Requirement already satisfied: h5py>=3.10.0 in c:\\users\\user\\anaconda3\\lib\\site-packages (from tensorflow-intel==2.16.1->tensorflow) (3.11.0)\n",
      "Requirement already satisfied: libclang>=13.0.0 in c:\\users\\user\\anaconda3\\lib\\site-packages (from tensorflow-intel==2.16.1->tensorflow) (18.1.1)\n",
      "Requirement already satisfied: ml-dtypes~=0.3.1 in c:\\users\\user\\anaconda3\\lib\\site-packages (from tensorflow-intel==2.16.1->tensorflow) (0.3.2)\n",
      "Requirement already satisfied: opt-einsum>=2.3.2 in c:\\users\\user\\anaconda3\\lib\\site-packages (from tensorflow-intel==2.16.1->tensorflow) (3.3.0)\n",
      "Requirement already satisfied: packaging in c:\\users\\user\\anaconda3\\lib\\site-packages (from tensorflow-intel==2.16.1->tensorflow) (23.1)\n",
      "Requirement already satisfied: protobuf!=4.21.0,!=4.21.1,!=4.21.2,!=4.21.3,!=4.21.4,!=4.21.5,<5.0.0dev,>=3.20.3 in c:\\users\\user\\anaconda3\\lib\\site-packages (from tensorflow-intel==2.16.1->tensorflow) (3.20.3)\n",
      "Requirement already satisfied: requests<3,>=2.21.0 in c:\\users\\user\\anaconda3\\lib\\site-packages (from tensorflow-intel==2.16.1->tensorflow) (2.31.0)\n",
      "Requirement already satisfied: setuptools in c:\\users\\user\\anaconda3\\lib\\site-packages (from tensorflow-intel==2.16.1->tensorflow) (68.2.2)\n",
      "Requirement already satisfied: six>=1.12.0 in c:\\users\\user\\anaconda3\\lib\\site-packages (from tensorflow-intel==2.16.1->tensorflow) (1.16.0)\n",
      "Requirement already satisfied: termcolor>=1.1.0 in c:\\users\\user\\anaconda3\\lib\\site-packages (from tensorflow-intel==2.16.1->tensorflow) (2.4.0)\n",
      "Requirement already satisfied: typing-extensions>=3.6.6 in c:\\users\\user\\anaconda3\\lib\\site-packages (from tensorflow-intel==2.16.1->tensorflow) (4.9.0)\n",
      "Requirement already satisfied: wrapt>=1.11.0 in c:\\users\\user\\anaconda3\\lib\\site-packages (from tensorflow-intel==2.16.1->tensorflow) (1.14.1)\n",
      "Requirement already satisfied: grpcio<2.0,>=1.24.3 in c:\\users\\user\\anaconda3\\lib\\site-packages (from tensorflow-intel==2.16.1->tensorflow) (1.64.1)\n",
      "Requirement already satisfied: tensorboard<2.17,>=2.16 in c:\\users\\user\\anaconda3\\lib\\site-packages (from tensorflow-intel==2.16.1->tensorflow) (2.16.2)\n",
      "Requirement already satisfied: keras>=3.0.0 in c:\\users\\user\\anaconda3\\lib\\site-packages (from tensorflow-intel==2.16.1->tensorflow) (3.3.3)\n",
      "Requirement already satisfied: tensorflow-io-gcs-filesystem>=0.23.1 in c:\\users\\user\\anaconda3\\lib\\site-packages (from tensorflow-intel==2.16.1->tensorflow) (0.31.0)\n",
      "Requirement already satisfied: numpy<2.0.0,>=1.23.5 in c:\\users\\user\\anaconda3\\lib\\site-packages (from tensorflow-intel==2.16.1->tensorflow) (1.26.4)\n",
      "Requirement already satisfied: wheel<1.0,>=0.23.0 in c:\\users\\user\\anaconda3\\lib\\site-packages (from astunparse>=1.6.0->tensorflow-intel==2.16.1->tensorflow) (0.41.2)\n",
      "Requirement already satisfied: rich in c:\\users\\user\\anaconda3\\lib\\site-packages (from keras>=3.0.0->tensorflow-intel==2.16.1->tensorflow) (13.3.5)\n",
      "Requirement already satisfied: namex in c:\\users\\user\\anaconda3\\lib\\site-packages (from keras>=3.0.0->tensorflow-intel==2.16.1->tensorflow) (0.0.8)\n",
      "Requirement already satisfied: optree in c:\\users\\user\\anaconda3\\lib\\site-packages (from keras>=3.0.0->tensorflow-intel==2.16.1->tensorflow) (0.11.0)\n",
      "Requirement already satisfied: charset-normalizer<4,>=2 in c:\\users\\user\\anaconda3\\lib\\site-packages (from requests<3,>=2.21.0->tensorflow-intel==2.16.1->tensorflow) (2.0.4)\n",
      "Requirement already satisfied: idna<4,>=2.5 in c:\\users\\user\\anaconda3\\lib\\site-packages (from requests<3,>=2.21.0->tensorflow-intel==2.16.1->tensorflow) (2.10)\n",
      "Requirement already satisfied: urllib3<3,>=1.21.1 in c:\\users\\user\\anaconda3\\lib\\site-packages (from requests<3,>=2.21.0->tensorflow-intel==2.16.1->tensorflow) (2.0.7)\n",
      "Requirement already satisfied: certifi>=2017.4.17 in c:\\users\\user\\anaconda3\\lib\\site-packages (from requests<3,>=2.21.0->tensorflow-intel==2.16.1->tensorflow) (2024.2.2)\n",
      "Requirement already satisfied: markdown>=2.6.8 in c:\\users\\user\\anaconda3\\lib\\site-packages (from tensorboard<2.17,>=2.16->tensorflow-intel==2.16.1->tensorflow) (3.4.1)\n",
      "Requirement already satisfied: tensorboard-data-server<0.8.0,>=0.7.0 in c:\\users\\user\\anaconda3\\lib\\site-packages (from tensorboard<2.17,>=2.16->tensorflow-intel==2.16.1->tensorflow) (0.7.2)\n",
      "Requirement already satisfied: werkzeug>=1.0.1 in c:\\users\\user\\anaconda3\\lib\\site-packages (from tensorboard<2.17,>=2.16->tensorflow-intel==2.16.1->tensorflow) (2.2.3)\n",
      "Requirement already satisfied: MarkupSafe>=2.1.1 in c:\\users\\user\\anaconda3\\lib\\site-packages (from werkzeug>=1.0.1->tensorboard<2.17,>=2.16->tensorflow-intel==2.16.1->tensorflow) (2.1.3)\n",
      "Requirement already satisfied: markdown-it-py<3.0.0,>=2.2.0 in c:\\users\\user\\anaconda3\\lib\\site-packages (from rich->keras>=3.0.0->tensorflow-intel==2.16.1->tensorflow) (2.2.0)\n",
      "Requirement already satisfied: pygments<3.0.0,>=2.13.0 in c:\\users\\user\\anaconda3\\lib\\site-packages (from rich->keras>=3.0.0->tensorflow-intel==2.16.1->tensorflow) (2.15.1)\n",
      "Requirement already satisfied: mdurl~=0.1 in c:\\users\\user\\anaconda3\\lib\\site-packages (from markdown-it-py<3.0.0,>=2.2.0->rich->keras>=3.0.0->tensorflow-intel==2.16.1->tensorflow) (0.1.0)\n"
     ]
    }
   ],
   "source": [
    "!pip install tensorflow"
   ]
  },
  {
   "cell_type": "code",
   "execution_count": 7,
   "id": "d2f1b20c-f999-4c00-b5b3-71c8d81c3fbf",
   "metadata": {},
   "outputs": [
    {
     "name": "stdout",
     "output_type": "stream",
     "text": [
      "Collecting tflearn\n",
      "  Downloading tflearn-0.5.0.tar.gz (107 kB)\n",
      "     ---------------------------------------- 0.0/107.3 kB ? eta -:--:--\n",
      "     ---------------------------------------- 0.0/107.3 kB ? eta -:--:--\n",
      "     ---------------------------------------- 0.0/107.3 kB ? eta -:--:--\n",
      "     ---------------------------------------- 0.0/107.3 kB ? eta -:--:--\n",
      "     ---------------------------------------- 0.0/107.3 kB ? eta -:--:--\n",
      "     ---------------------------------------- 0.0/107.3 kB ? eta -:--:--\n",
      "     ---------------------------------------- 0.0/107.3 kB ? eta -:--:--\n",
      "     ---------------------------------------- 0.0/107.3 kB ? eta -:--:--\n",
      "     ---------------------------------------- 0.0/107.3 kB ? eta -:--:--\n",
      "     ---------------------------------------- 0.0/107.3 kB ? eta -:--:--\n",
      "     ---------------------------------------- 0.0/107.3 kB ? eta -:--:--\n",
      "     ---------------------------------------- 0.0/107.3 kB ? eta -:--:--\n",
      "     ---------------------------------------- 0.0/107.3 kB ? eta -:--:--\n",
      "     ---------------------------------------- 0.0/107.3 kB ? eta -:--:--\n",
      "     ---------------------------------------- 0.0/107.3 kB ? eta -:--:--\n",
      "     ---------------------------------------- 0.0/107.3 kB ? eta -:--:--\n",
      "     ---------------------------------------- 0.0/107.3 kB ? eta -:--:--\n",
      "     ---------------------------------------- 0.0/107.3 kB ? eta -:--:--\n",
      "     ---------------------------------------- 0.0/107.3 kB ? eta -:--:--\n",
      "     ---------------------------------------- 0.0/107.3 kB ? eta -:--:--\n",
      "     ---------------------------------------- 0.0/107.3 kB ? eta -:--:--\n",
      "     ---------------------------------------- 0.0/107.3 kB ? eta -:--:--\n",
      "     ---------------------------------------- 0.0/107.3 kB ? eta -:--:--\n",
      "     ---------------------------------------- 0.0/107.3 kB ? eta -:--:--\n",
      "     ---------------------------------------- 0.0/107.3 kB ? eta -:--:--\n",
      "     ---------------------------------------- 0.0/107.3 kB ? eta -:--:--\n",
      "     ---------------------------------------- 0.0/107.3 kB ? eta -:--:--\n",
      "     ---------------------------------------- 0.0/107.3 kB ? eta -:--:--\n",
      "     ---------------------------------------- 0.0/107.3 kB ? eta -:--:--\n",
      "     ---------------------------------------- 0.0/107.3 kB ? eta -:--:--\n",
      "     ---------------------------------------- 0.0/107.3 kB ? eta -:--:--\n",
      "     ---------------------------------------- 0.0/107.3 kB ? eta -:--:--\n",
      "     ---------------------------------------- 0.0/107.3 kB ? eta -:--:--\n",
      "     ---------------------------------------- 0.0/107.3 kB ? eta -:--:--\n",
      "     ---------------------------------------- 0.0/107.3 kB ? eta -:--:--\n",
      "     ---------------------------------------- 0.0/107.3 kB ? eta -:--:--\n",
      "     ---------------------------------------- 0.0/107.3 kB ? eta -:--:--\n",
      "     ---------------------------------------- 0.0/107.3 kB ? eta -:--:--\n",
      "     ---------------------------------------- 0.0/107.3 kB ? eta -:--:--\n",
      "     ---------------------------------------- 0.0/107.3 kB ? eta -:--:--\n",
      "     ---------------------------------------- 0.0/107.3 kB ? eta -:--:--\n",
      "     ---------------------------------------- 0.0/107.3 kB ? eta -:--:--\n",
      "     ---------------------------------------- 0.0/107.3 kB ? eta -:--:--\n",
      "     ---------------------------------------- 0.0/107.3 kB ? eta -:--:--\n",
      "     ---------------------------------------- 0.0/107.3 kB ? eta -:--:--\n",
      "     ---------------------------------------- 0.0/107.3 kB ? eta -:--:--\n",
      "     ---------------------------------------- 0.0/107.3 kB ? eta -:--:--\n",
      "     --- ------------------------------------ 10.2/107.3 kB ? eta -:--:--\n",
      "     --- ------------------------------------ 10.2/107.3 kB ? eta -:--:--\n",
      "     --- ------------------------------------ 10.2/107.3 kB ? eta -:--:--\n",
      "     --- ------------------------------------ 10.2/107.3 kB ? eta -:--:--\n",
      "     --- ------------------------------------ 10.2/107.3 kB ? eta -:--:--\n",
      "     --- ------------------------------------ 10.2/107.3 kB ? eta -:--:--\n",
      "     --- ------------------------------------ 10.2/107.3 kB ? eta -:--:--\n",
      "     --- ------------------------------------ 10.2/107.3 kB ? eta -:--:--\n",
      "     --- ------------------------------------ 10.2/107.3 kB ? eta -:--:--\n",
      "     --- ------------------------------------ 10.2/107.3 kB ? eta -:--:--\n",
      "     --- ------------------------------------ 10.2/107.3 kB ? eta -:--:--\n",
      "     --- ------------------------------------ 10.2/107.3 kB ? eta -:--:--\n",
      "     --- ------------------------------------ 10.2/107.3 kB ? eta -:--:--\n",
      "     --- ------------------------------------ 10.2/107.3 kB ? eta -:--:--\n",
      "     --- ------------------------------------ 10.2/107.3 kB ? eta -:--:--\n",
      "     --- ------------------------------------ 10.2/107.3 kB ? eta -:--:--\n",
      "     --- ------------------------------------ 10.2/107.3 kB ? eta -:--:--\n",
      "     --- ------------------------------------ 10.2/107.3 kB ? eta -:--:--\n",
      "     --- ------------------------------------ 10.2/107.3 kB ? eta -:--:--\n",
      "     --- ------------------------------------ 10.2/107.3 kB ? eta -:--:--\n",
      "     --- ------------------------------------ 10.2/107.3 kB ? eta -:--:--\n",
      "     --- ------------------------------------ 10.2/107.3 kB ? eta -:--:--\n",
      "     --- ------------------------------------ 10.2/107.3 kB ? eta -:--:--\n",
      "     --- ------------------------------------ 10.2/107.3 kB ? eta -:--:--\n",
      "     --- ------------------------------------ 10.2/107.3 kB ? eta -:--:--\n",
      "     --- ------------------------------------ 10.2/107.3 kB ? eta -:--:--\n",
      "     --- ------------------------------------ 10.2/107.3 kB ? eta -:--:--\n",
      "     --- ------------------------------------ 10.2/107.3 kB ? eta -:--:--\n",
      "     --- ------------------------------------ 10.2/107.3 kB ? eta -:--:--\n",
      "     --- ------------------------------------ 10.2/107.3 kB ? eta -:--:--\n",
      "     --- ------------------------------------ 10.2/107.3 kB ? eta -:--:--\n",
      "     --- ------------------------------------ 10.2/107.3 kB ? eta -:--:--\n",
      "     --- ------------------------------------ 10.2/107.3 kB ? eta -:--:--\n",
      "     --- ------------------------------------ 10.2/107.3 kB ? eta -:--:--\n",
      "     --- ------------------------------------ 10.2/107.3 kB ? eta -:--:--\n",
      "     --- ------------------------------------ 10.2/107.3 kB ? eta -:--:--\n",
      "     --- ------------------------------------ 10.2/107.3 kB ? eta -:--:--\n",
      "     --- ------------------------------------ 10.2/107.3 kB ? eta -:--:--\n",
      "     --- ------------------------------------ 10.2/107.3 kB ? eta -:--:--\n",
      "     -------------- ----------------------- 41.0/107.3 kB 16.8 kB/s eta 0:00:04\n",
      "     -------------- ----------------------- 41.0/107.3 kB 16.8 kB/s eta 0:00:04\n",
      "     -------------- ----------------------- 41.0/107.3 kB 16.8 kB/s eta 0:00:04\n",
      "     -------------- ----------------------- 41.0/107.3 kB 16.8 kB/s eta 0:00:04\n",
      "     -------------- ----------------------- 41.0/107.3 kB 16.8 kB/s eta 0:00:04\n",
      "     -------------- ----------------------- 41.0/107.3 kB 16.8 kB/s eta 0:00:04\n",
      "     -------------- ----------------------- 41.0/107.3 kB 16.8 kB/s eta 0:00:04\n",
      "     -------------- ----------------------- 41.0/107.3 kB 16.8 kB/s eta 0:00:04\n",
      "     -------------- ----------------------- 41.0/107.3 kB 16.8 kB/s eta 0:00:04\n",
      "     --------------------- ---------------- 61.4/107.3 kB 22.8 kB/s eta 0:00:03\n",
      "     --------------------- ---------------- 61.4/107.3 kB 22.8 kB/s eta 0:00:03\n",
      "     --------------------- ---------------- 61.4/107.3 kB 22.8 kB/s eta 0:00:03\n",
      "     --------------------- ---------------- 61.4/107.3 kB 22.8 kB/s eta 0:00:03\n",
      "     --------------------- ---------------- 61.4/107.3 kB 22.8 kB/s eta 0:00:03\n",
      "     --------------------- ---------------- 61.4/107.3 kB 22.8 kB/s eta 0:00:03\n",
      "     --------------------- ---------------- 61.4/107.3 kB 22.8 kB/s eta 0:00:03\n",
      "     --------------------- ---------------- 61.4/107.3 kB 22.8 kB/s eta 0:00:03\n",
      "     --------------------- ---------------- 61.4/107.3 kB 22.8 kB/s eta 0:00:03\n",
      "     --------------------- ---------------- 61.4/107.3 kB 22.8 kB/s eta 0:00:03\n",
      "     --------------------- ---------------- 61.4/107.3 kB 22.8 kB/s eta 0:00:03\n",
      "     --------------------- ---------------- 61.4/107.3 kB 22.8 kB/s eta 0:00:03\n",
      "     --------------------- ---------------- 61.4/107.3 kB 22.8 kB/s eta 0:00:03\n",
      "     ------------------------- ------------ 71.7/107.3 kB 21.7 kB/s eta 0:00:02\n",
      "     ------------------------- ------------ 71.7/107.3 kB 21.7 kB/s eta 0:00:02\n",
      "     ------------------------- ------------ 71.7/107.3 kB 21.7 kB/s eta 0:00:02\n",
      "     ------------------------- ------------ 71.7/107.3 kB 21.7 kB/s eta 0:00:02\n",
      "     ------------------------- ------------ 71.7/107.3 kB 21.7 kB/s eta 0:00:02\n",
      "     ------------------------- ------------ 71.7/107.3 kB 21.7 kB/s eta 0:00:02\n",
      "     ------------------------- ------------ 71.7/107.3 kB 21.7 kB/s eta 0:00:02\n",
      "     -------------------------------- ----- 92.2/107.3 kB 25.8 kB/s eta 0:00:01\n",
      "     -------------------------------- ----- 92.2/107.3 kB 25.8 kB/s eta 0:00:01\n",
      "     -------------------------------- ----- 92.2/107.3 kB 25.8 kB/s eta 0:00:01\n",
      "     -------------------------------- ----- 92.2/107.3 kB 25.8 kB/s eta 0:00:01\n",
      "     -------------------------------- ----- 92.2/107.3 kB 25.8 kB/s eta 0:00:01\n",
      "     ------------------------------------- 107.3/107.3 kB 28.5 kB/s eta 0:00:00\n",
      "  Preparing metadata (setup.py): started\n",
      "  Preparing metadata (setup.py): finished with status 'done'\n",
      "Requirement already satisfied: numpy in c:\\users\\user\\anaconda3\\lib\\site-packages (from tflearn) (1.26.4)\n",
      "Requirement already satisfied: six in c:\\users\\user\\anaconda3\\lib\\site-packages (from tflearn) (1.16.0)\n",
      "Requirement already satisfied: Pillow in c:\\users\\user\\anaconda3\\lib\\site-packages (from tflearn) (10.2.0)\n",
      "Building wheels for collected packages: tflearn\n",
      "  Building wheel for tflearn (setup.py): started\n",
      "  Building wheel for tflearn (setup.py): finished with status 'done'\n",
      "  Created wheel for tflearn: filename=tflearn-0.5.0-py3-none-any.whl size=127292 sha256=8d12dc283df3f6b75b98a980d541331540e74dfd2987f42a2fdb3eacf48f8a03\n",
      "  Stored in directory: c:\\users\\user\\appdata\\local\\pip\\cache\\wheels\\67\\dd\\7b\\ddc1488c900739f410ea276e0e450d220f69d85c39e421f5f3\n",
      "Successfully built tflearn\n",
      "Installing collected packages: tflearn\n",
      "Successfully installed tflearn-0.5.0\n"
     ]
    }
   ],
   "source": [
    "!pip install tflearn"
   ]
  },
  {
   "cell_type": "code",
   "execution_count": 8,
   "id": "42462e9e-463e-45c7-95c8-fa2970e25d36",
   "metadata": {},
   "outputs": [
    {
     "name": "stdout",
     "output_type": "stream",
     "text": [
      "Requirement already satisfied: tqdm in c:\\users\\user\\anaconda3\\lib\\site-packages (4.65.0)\n",
      "Requirement already satisfied: colorama in c:\\users\\user\\anaconda3\\lib\\site-packages (from tqdm) (0.4.6)\n"
     ]
    }
   ],
   "source": [
    "!pip install tqdm"
   ]
  },
  {
   "cell_type": "code",
   "execution_count": 1,
   "id": "a2d38512-73cd-49bf-bd51-35473b5f48cb",
   "metadata": {},
   "outputs": [],
   "source": [
    "import cv2\n",
    "import numpy as np\n",
    "import os         \n",
    "from random import shuffle \n",
    "from tqdm import tqdm      \n",
    "import tensorflow as tf\n",
    "import matplotlib.pyplot as plt\n",
    "\n",
    "%matplotlib inline\n",
    "\n",
    "TRAIN_DIR=\"C:/Users/User/python練習/train/train\"\n",
    "TEST_DIR=\"C:/Users/User/python練習/test/test\"\n",
    "IMG_SIZE=50\n",
    "LR=1e-3\n",
    "MODEL_NAME='dogs-vs-cats-convnet'"
   ]
  },
  {
   "cell_type": "code",
   "execution_count": 2,
   "id": "e2b5b54d-92ea-44eb-a056-8df3f44e9903",
   "metadata": {},
   "outputs": [],
   "source": [
    "def label_img(img):\n",
    "    word_label=img.split('.')[0]\n",
    "    if word_label=='cat':return[1,0]\n",
    "    elif word_label=='dog':return[0,1]"
   ]
  },
  {
   "cell_type": "code",
   "execution_count": 3,
   "id": "cfa46169-279b-4c22-8d2a-91f0a893d210",
   "metadata": {},
   "outputs": [],
   "source": [
    "def create_train_data():\n",
    "    training_data=[]\n",
    "    for img in tqdm(os.listdir(TRAIN_DIR)):\n",
    "        labol=label_img(img)\n",
    "        path=os.path.join(TRAIN_DIR,img)\n",
    "        img=cv2.resize(cv2.imread(path,cv2.IMREAD_GRAYSCALE),(IMG_SIZE, IMG_SIZE))\n",
    "        training_data.append([np.array(img),np.array(label)])\n",
    "    shuffle(training_data)\n",
    "    np.save('train_data.npy',training_data)\n",
    "    return training_data"
   ]
  },
  {
   "cell_type": "code",
   "execution_count": 4,
   "id": "254ca58b-c3b1-4a60-9a12-ca5cbdb3fbcd",
   "metadata": {},
   "outputs": [],
   "source": [
    "def create_test_data():\n",
    "    testing_data=[]\n",
    "    for img in tqdm(os.listdir(TEST_DIR)):\n",
    "        path=os.path.join(TEST_DIR,img)\n",
    "        img_num=img.split('.')[0]\n",
    "        img_data=cv2.resize(cv2.imread(path,cv2.IMREAD_GRAYSCALE),(IMG_SIZE, IMG_SIZE))\n",
    "        testing_data.append([np.array(img),img_num])\n",
    "    shuffle(testing_data)\n",
    "    np.save('train_data.npy',training_data)\n",
    "    return training_data"
   ]
  },
  {
   "cell_type": "code",
   "execution_count": 5,
   "id": "cae01906-ccc1-4b2c-a715-34e736feae89",
   "metadata": {},
   "outputs": [
    {
     "name": "stderr",
     "output_type": "stream",
     "text": [
      "  0%|          | 0/11941 [00:00<?, ?it/s]\n"
     ]
    },
    {
     "ename": "error",
     "evalue": "OpenCV(4.10.0) D:\\a\\opencv-python\\opencv-python\\opencv\\modules\\imgproc\\src\\resize.cpp:4152: error: (-215:Assertion failed) !ssize.empty() in function 'cv::resize'\n",
     "output_type": "error",
     "traceback": [
      "\u001b[1;31m---------------------------------------------------------------------------\u001b[0m",
      "\u001b[1;31merror\u001b[0m                                     Traceback (most recent call last)",
      "Cell \u001b[1;32mIn[5], line 1\u001b[0m\n\u001b[1;32m----> 1\u001b[0m train_data\u001b[38;5;241m=\u001b[39mcreate_train_data()\n\u001b[0;32m      2\u001b[0m test_data\u001b[38;5;241m=\u001b[39mcreate_test_data()\n",
      "Cell \u001b[1;32mIn[3], line 6\u001b[0m, in \u001b[0;36mcreate_train_data\u001b[1;34m()\u001b[0m\n\u001b[0;32m      4\u001b[0m     labol\u001b[38;5;241m=\u001b[39mlabel_img(img)\n\u001b[0;32m      5\u001b[0m     path\u001b[38;5;241m=\u001b[39mos\u001b[38;5;241m.\u001b[39mpath\u001b[38;5;241m.\u001b[39mjoin(TRAIN_DIR,img)\n\u001b[1;32m----> 6\u001b[0m     img\u001b[38;5;241m=\u001b[39mcv2\u001b[38;5;241m.\u001b[39mresize(cv2\u001b[38;5;241m.\u001b[39mimread(path,cv2\u001b[38;5;241m.\u001b[39mIMREAD_GRAYSCALE),(IMG_SIZE, IMG_SIZE))\n\u001b[0;32m      7\u001b[0m     training_data\u001b[38;5;241m.\u001b[39mappend([np\u001b[38;5;241m.\u001b[39marray(img),np\u001b[38;5;241m.\u001b[39marray(label)])\n\u001b[0;32m      8\u001b[0m shuffle(training_data)\n",
      "\u001b[1;31merror\u001b[0m: OpenCV(4.10.0) D:\\a\\opencv-python\\opencv-python\\opencv\\modules\\imgproc\\src\\resize.cpp:4152: error: (-215:Assertion failed) !ssize.empty() in function 'cv::resize'\n"
     ]
    }
   ],
   "source": [
    "train_data=create_train_data()\n",
    "test_data=create_test_data()"
   ]
  },
  {
   "cell_type": "code",
   "execution_count": null,
   "id": "d7042cc8-fa2c-4c0a-be90-e33ae87c1f0a",
   "metadata": {},
   "outputs": [],
   "source": [
    "import tflearn\n",
    "from tflearn.layers.conv import conv_2d,max_pooi_2d\n",
    "from tflearn.layers.core import input_data,dropout,fully_connected\n",
    "from tflearn.layers.estimator import regression"
   ]
  },
  {
   "cell_type": "code",
   "execution_count": 7,
   "id": "cac1e0c4-304f-4d80-8af8-960d1122ec5b",
   "metadata": {},
   "outputs": [
    {
     "ename": "NameError",
     "evalue": "name 'input_data' is not defined",
     "output_type": "error",
     "traceback": [
      "\u001b[1;31m---------------------------------------------------------------------------\u001b[0m",
      "\u001b[1;31mNameError\u001b[0m                                 Traceback (most recent call last)",
      "Cell \u001b[1;32mIn[7], line 1\u001b[0m\n\u001b[1;32m----> 1\u001b[0m convnet \u001b[38;5;241m=\u001b[39m input_data(shape\u001b[38;5;241m=\u001b[39m[\u001b[38;5;28;01mNone\u001b[39;00m, IMG_SIZE, IMG_SIZE, \u001b[38;5;241m1\u001b[39m], name\u001b[38;5;241m=\u001b[39m\u001b[38;5;124m'\u001b[39m\u001b[38;5;124minput\u001b[39m\u001b[38;5;124m'\u001b[39m)\n\u001b[0;32m      2\u001b[0m convnet \u001b[38;5;241m=\u001b[39m conv_2d(convnet, \u001b[38;5;241m32\u001b[39m, \u001b[38;5;241m5\u001b[39m, activation\u001b[38;5;241m=\u001b[39m\u001b[38;5;124m'\u001b[39m\u001b[38;5;124mrelu\u001b[39m\u001b[38;5;124m'\u001b[39m)\n\u001b[0;32m      3\u001b[0m convnet \u001b[38;5;241m=\u001b[39m max_pool_2d(convnet, \u001b[38;5;241m5\u001b[39m)\n",
      "\u001b[1;31mNameError\u001b[0m: name 'input_data' is not defined"
     ]
    }
   ],
   "source": [
    "convnet = input_data(shape=[None, IMG_SIZE, IMG_SIZE, 1], name='input')\n",
    "convnet = conv_2d(convnet, 32, 5, activation='relu')\n",
    "convnet = max_pool_2d(convnet, 5)\n",
    "convnet = conv_2d(convnet, 64, 5, activation='relu')\n",
    "convnet = max_pool_2d(convnet, 5)\n",
    "convnet = conv_2d(convnet, 128, 5, activation='relu')\n",
    "convnet = max_pool_2d(convnet, 5)\n",
    "convnet = conv_2d(convnet, 64, 5, activation='relu')\n",
    "convnet = max_pool_2d(convnet, 5)\n",
    "convnet = conv_2d(convnet, 32, 5, activation='relu')\n",
    "convnet = max_pool_2d(convnet, 5)\n",
    "convnet = fully_connected(convnet, 1024, activation='relu')\n",
    "convnet = dropout(convnet, 0.8)\n",
    "convnet = fully_connected(convnet, 2, activation='softmax')\n",
    "convnet = regression(convnet, optimizer='adam', learning_rate=LR, loss='categorical_crossentropy', name='targets')\n",
    "model = tflearn.DNN(convnet, tensorboard_dir='log', tensorboard_verbose=0)"
   ]
  },
  {
   "cell_type": "code",
   "execution_count": null,
   "id": "0f8f2250-9f65-4d7a-b316-8c22e55aca07",
   "metadata": {},
   "outputs": [],
   "source": [
    "if os.path.exists('{}.meta'.format(MODEL _NAME)):\n",
    "    model.load(MODEL_NAME)\n",
    "    print('model loaded!')"
   ]
  },
  {
   "cell_type": "code",
   "execution_count": null,
   "id": "385cf200-35b2-4586-88ee-63f03c687a63",
   "metadata": {},
   "outputs": [],
   "source": [
    "train=train_data[:-8000]\n",
    "test=train_data[-8000:]"
   ]
  },
  {
   "cell_type": "code",
   "execution_count": null,
   "id": "53b856a4-7b7c-4333-b4ac-ac142cbd3d4c",
   "metadata": {},
   "outputs": [],
   "source": [
    "X=np.array(i[0]for i in train]).reshape(-1,IMG_SIZE,IMG_SIZE,1)\n",
    "Y=[i[1]for i in train]\n",
    "test_x=np.array(i[0]for i in test]).reshape(-1,IMG_SIZE,IMG_SIZE,1)\n",
    "test_y=[i[1]for i in train]"
   ]
  },
  {
   "cell_type": "code",
   "execution_count": null,
   "id": "89fdca66-812a-4ece-aa8c-ce9d73d5915a",
   "metadata": {},
   "outputs": [],
   "source": [
    "model.fit({'input':X},{'targets':Y},n_epoch=5,\n",
    "          validation_set=({'input':test_x),{'targets':test_y}),\n",
    "          snapshot_step=500,show_metric=True,run_id=MODEL_NAME)"
   ]
  },
  {
   "cell_type": "code",
   "execution_count": null,
   "id": "fcb11f5a-6e5e-476b-9a01-c40d83d9a681",
   "metadata": {},
   "outputs": [],
   "source": [
    "model.save(MODEL_NAME)"
   ]
  },
  {
   "cell_type": "code",
   "execution_count": null,
   "id": "5ca75447-ccf4-4bd4-b620-2929ced49582",
   "metadata": {},
   "outputs": [],
   "source": [
    "d=test_data[0]\n",
    "img_data, img_num = d\n",
    "data = img_data.reshape(IMG_SIZE, IMG_SIZE, 1)\n",
    "prediction = model.predict([data])[0]\n",
    "fig = plt.figure(figsize=(6, 6))\n",
    "ax = fig.add_subplot(111)\n",
    "ax.imshow(img_data, cmap=\"gray\")\n",
    "print（'Cat Possibility：{：5.2f｝%\\nDog Possioiity：{:5.2f}%'.format(prediction[0]*100,prediction[1]*100))"
   ]
  },
  {
   "cell_type": "code",
   "execution_count": null,
   "id": "2f568442-a1d0-4785-9a1a-971dbcd5ae82",
   "metadata": {},
   "outputs": [],
   "source": [
    "fig=plt.figure(figsize=(16, 12))\n",
    "for num, data in enumerate(test_data[:16]):\n",
    "    img_num = data[1]\n",
    "    img_data = data[0]\n",
    "    y = fig.add_subplot(4, 4, num+1)\n",
    "    orig = img_data\n",
    "    data = img_data.reshape(IMG_SIZE, IMG_SIZE, 1)\n",
    "    model_out = model.predict([data])[0]\n",
    "    if np.argmax(model_out) == 1: \n",
    "        str_label='Dog'\n",
    "    else:\n",
    "        str_label='Cat'\n",
    "        \n",
    "    y.imshow(orig, cmap='gray')\n",
    "    plt.title(str_label)\n",
    "    y.axes.get_xaxis().set_visible(False)\n",
    "    y.axes.get_yaxis().set_visible(False)\n",
    "plt.show()"
   ]
  },
  {
   "cell_type": "code",
   "execution_count": null,
   "id": "a0e1cbb7-f0b4-44ae-bf2c-7b591c58a445",
   "metadata": {},
   "outputs": [],
   "source": []
  }
 ],
 "metadata": {
  "kernelspec": {
   "display_name": "Python 3 (ipykernel)",
   "language": "python",
   "name": "python3"
  },
  "language_info": {
   "codemirror_mode": {
    "name": "ipython",
    "version": 3
   },
   "file_extension": ".py",
   "mimetype": "text/x-python",
   "name": "python",
   "nbconvert_exporter": "python",
   "pygments_lexer": "ipython3",
   "version": "3.11.7"
  }
 },
 "nbformat": 4,
 "nbformat_minor": 5
}
